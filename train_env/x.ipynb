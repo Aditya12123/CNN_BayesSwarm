{
 "cells": [
  {
   "cell_type": "code",
   "execution_count": null,
   "metadata": {},
   "outputs": [],
   "source": [
    "import os\n",
    "import torch\n",
    "import torch.nn as nn\n",
    "import numpy as np\n",
    "from numpy import arange, meshgrid, exp, cos, pi, sqrt, e"
   ]
  },
  {
   "cell_type": "markdown",
   "metadata": {},
   "source": [
    "## Source\n",
    "\n",
    "![figure_5.png](../assets/figure_5.png)"
   ]
  },
  {
   "cell_type": "code",
   "execution_count": null,
   "metadata": {},
   "outputs": [
    {
     "ename": "",
     "evalue": "",
     "output_type": "error",
     "traceback": [
      "\u001b[1;31mFailed to start the Kernel. \n",
      "\u001b[1;31mAttributeError: 'SelectIOLoop' object has no attribute 'asyncio_loop'. \n",
      "\u001b[1;31mView Jupyter <a href='command:jupyter.viewOutput'>log</a> for further details."
     ]
    }
   ],
   "source": [
    "class Source():\n",
    "    def __init__(self, resolution):\n",
    "        self.resolution = resolution\n",
    "        self.signal = 1\n",
    "        self.data = None\n",
    "        self.ub = None\n",
    "        self.lb = None\n",
    "\n",
    "    def generate_arena(self, epoch):\n",
    "        \"\"\"To be run at every reset. This will generate data for the sampler.\"\"\"\n",
    "        ele = 300\n",
    "        self.lb = [-ele, -ele]\n",
    "        self.ub = [ele, ele]\n",
    "        self.data = self.get_data(self.lb, self.ub, self.resolution, self.signal)\n",
    "    \n",
    "    def get_data(self, lb = [-5, -5], ub = [5, 5], resolution=100, signal=1):\n",
    "        \"\"\"\n",
    "        input:\n",
    "        -lb: Lower bound for the env.\n",
    "        -ub: Upper bound for the env.\n",
    "        -resolution: Shape of the functional space (resolution, resolution) \n",
    "        -signal: Decides which source environment to use. 1 for the unimodal and 0 for the multimodal.\n",
    "\n",
    "        output:\n",
    "        -data: Array of shape (resolution**2, 3) containing locations X1, X2 and the signal measurements Y\n",
    "        \"\"\"\n",
    "        x1 = np.linspace(lb[0], ub[0], resolution)\n",
    "        x2 = np.linspace(lb[1], ub[1], resolution)\n",
    "        X1, X2 = np.meshgrid(x1, x2)\n",
    "        # Y, self.a, self.b = self.unimodal_signal(X1, X2) if signal == 1 else self.multimodal_signal(X1, X2)\n",
    "        data = np.hstack((X1.reshape(-1, 1), X2.reshape(-1, 1)))\n",
    "        # print(\"Data_ :\", data[2][2])\n",
    "        return data\n",
    "\n",
    "\n",
    "\n",
    "    def get_info(self):\n",
    "        return self.data, self.lb, self.ub"
   ]
  },
  {
   "cell_type": "markdown",
   "metadata": {},
   "source": [
    "## simple regression"
   ]
  },
  {
   "cell_type": "code",
   "execution_count": null,
   "metadata": {},
   "outputs": [],
   "source": [
    "class CNN(nn.Module):\n",
    "    def __init__(self):\n",
    "        super(CNN, self).__init__()\n",
    "        self.conv = nn.Sequential(\n",
    "            nn.Conv2d(in_channels=3, out_channels=8, kernel_size=11, padding=5),\n",
    "            nn.LeakyReLU(),\n",
    "            nn.Conv2d(in_channels=8, out_channels=8, kernel_size=9, padding=4),\n",
    "            nn.LeakyReLU(),\n",
    "            nn.MaxPool2d(kernel_size=2, stride=2),\n",
    "            nn.Conv2d(in_channels=8, out_channels=16, kernel_size=3, padding=1),\n",
    "            nn.LeakyReLU(),\n",
    "            nn.Conv2d(in_channels=16, out_channels=16, kernel_size=3, padding=1),\n",
    "            nn.LeakyReLU(),\n",
    "            nn.MaxPool2d(kernel_size=2, stride=2),\n",
    "            nn.Conv2d(in_channels=16, out_channels=16, kernel_size=3, padding=1),\n",
    "            nn.LeakyReLU(),\n",
    "            nn.Conv2d(in_channels=16, out_channels=8, kernel_size=3, padding=1),\n",
    "            nn.LeakyReLU(),\n",
    "        )\n",
    "\n",
    "        # self.avg_pool = nn.AdaptiveAvgPool2d((25, 25))\n",
    "\n",
    "        self.fc = nn.Sequential(\n",
    "            nn.Linear(8*25*25, 5000),\n",
    "            nn.LeakyReLU(),\n",
    "            nn.Linear(5000, 1024),\n",
    "            nn.LeakyReLU(),\n",
    "            nn.Linear(1024, 100*2)\n",
    "        )\n",
    "\n",
    "    def forward(self, x):\n",
    "        x = self.conv(x)\n",
    "        # x = self.avg_pool(x)\n",
    "        # print(x.shape)\n",
    "        # os.system('pause')\n",
    "        temp = x.shape[0]\n",
    "        x = torch.flatten(x, start_dim=1)\n",
    "        # print(x.shape, vector.shape)\n",
    "        # os.system('pause')\n",
    "        x = self.fc(x)\n",
    "\n",
    "        return x.view(temp, 100, 2)"
   ]
  }
 ],
 "metadata": {
  "kernelspec": {
   "display_name": "Python 3",
   "language": "python",
   "name": "python3"
  },
  "language_info": {
   "name": "python",
   "version": "3.9.9"
  }
 },
 "nbformat": 4,
 "nbformat_minor": 2
}
